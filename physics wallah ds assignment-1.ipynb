{
  "nbformat": 4,
  "nbformat_minor": 0,
  "metadata": {
    "colab": {
      "provenance": []
    },
    "kernelspec": {
      "name": "python3",
      "display_name": "Python 3"
    },
    "language_info": {
      "name": "python"
    }
  },
  "cells": [
    {
      "cell_type": "markdown",
      "source": [
        "# python basic assignment\n",
        "\n",
        "question 1. Explain the key features of Python that make it a popular choice for programming.\n",
        "- It helps in effectively handling data.\n",
        "- It helps in automation of tasks.\n",
        "- It has advance analystics capabilities.\n",
        "- IT provides data visualization feature which helps in better understanding of data.\n",
        "- It has huge open source library.\n",
        "- It is easy to learn and easy to write.\n",
        "- It enhances carrer opportunity.\n",
        "- It helps in scalibility.\n",
        "- It is cost efficient.\n",
        "- It has huge active community.\n",
        "  \n",
        "  \n",
        "\n",
        "question 2. Describe the role of predefined keywords in Python and provide examples of how they are used in a program.\n",
        "- Keywords are predifined reserved words in python that have special features.\n",
        "- We cannot use keywords as identifiers (variables,function etc.)\n",
        "- Keywords are case senstive (for example a = 10 and A =10 now python will see both of them differently these are two different variable for pythhon.)\n",
        "- Example of how they are used in a program:-\n",
        "   \n"
      ],
      "metadata": {
        "id": "a_Aoxy9AkMXS"
      }
    },
    {
      "cell_type": "code",
      "execution_count": 4,
      "metadata": {
        "colab": {
          "base_uri": "https://localhost:8080/"
        },
        "id": "zeRw0pF3gR8c",
        "outputId": "42776e3d-253f-4436-f973-3b9469eab0c1"
      },
      "outputs": [
        {
          "output_type": "stream",
          "name": "stdout",
          "text": [
            "example 1 output :a is greater than b\n",
            "example 2 output :b is greater than a\n",
            "example 3 output :a is greater then 100\n"
          ]
        }
      ],
      "source": [
        "#question 2.\n",
        "#example of keywords\n",
        "\n",
        "\n",
        "#example-1\n",
        "# [if]keyword example\n",
        "a=10\n",
        "b=2\n",
        "if a>b:\n",
        "    print(\"example 1 output :a is greater than b\")\n",
        "\n",
        "\n",
        "#example-2\n",
        "# [ifelse ]\n",
        "a=10\n",
        "b=20\n",
        "if a>b:\n",
        "  print(\"a is greater than b\")\n",
        "else:\n",
        "  print(\"example 2 output :b is greater than a\")\n",
        "\n",
        "#example-3\n",
        "#[elif]\n",
        "a=10000\n",
        "if a<100:\n",
        "  print(\"a is lesser then 100\")\n",
        "elif a>100:\n",
        "  print(\"example 3 output :a is greater then 100\")\n",
        "else:\n",
        "    print(\"example 3 output: a is equal to 100\")\n"
      ]
    },
    {
      "cell_type": "markdown",
      "source": [
        "question 3. Compare and contrast mutable and immutable objects in Python with examples.\n",
        "\n",
        "[Mutable Objects]\n",
        "\n",
        "- Definition: Mutable objects can be changed after they are created.\n",
        "- This means you can modify their content without creating a new object.\n",
        "- Examples: Lists, dictionaries, sets.\n",
        "\n",
        "[Immutable Objects]\n",
        "\n",
        "- Definition: Immutable objects cannot be changed after they are created.\n",
        "- If you try to modify an immutable object, a new object is created with the changes.\n",
        "- Examples: Integers, floats, strings, tuples.\n",
        "\n",
        "\n",
        "\n",
        "\n",
        "\n",
        "\n"
      ],
      "metadata": {
        "id": "1Is5u-q5ykce"
      }
    },
    {
      "cell_type": "markdown",
      "source": [
        "mutuable object example"
      ],
      "metadata": {
        "id": "33wTZBqqcGYJ"
      }
    },
    {
      "cell_type": "code",
      "source": [
        "#question-3 examples\n",
        "\n",
        "#example of mutuable objects\n",
        "list_con= [1,2,3,4,\"prateek\"]\n",
        "list_con[3]=\"c\" #modifying the original list\n",
        "print(list_con)"
      ],
      "metadata": {
        "colab": {
          "base_uri": "https://localhost:8080/"
        },
        "id": "luYfBJnBukJ9",
        "outputId": "3e48ea5c-c32e-4e9d-c125-ce8905a0fa34"
      },
      "execution_count": null,
      "outputs": [
        {
          "output_type": "stream",
          "name": "stdout",
          "text": [
            "[1, 2, 3, 'c', 'prateek']\n"
          ]
        }
      ]
    },
    {
      "cell_type": "markdown",
      "source": [
        "  immutuable object example"
      ],
      "metadata": {
        "id": "apYCx3ZHDvsc"
      }
    },
    {
      "cell_type": "code",
      "source": [
        "string_con=\"prateek\"\n",
        "#string_con[3]=\"b\" its not gonno work becuase it is immutable\n",
        "string_con1=string_con.replace(\"k\",\"b\")\n",
        "print(string_con)#output=prateek\n",
        "print(string_con1)#output=prateeb"
      ],
      "metadata": {
        "colab": {
          "base_uri": "https://localhost:8080/"
        },
        "id": "7zq0amDS01wX",
        "outputId": "67dd95e4-0d70-41cc-fe76-19bd82358b62"
      },
      "execution_count": 6,
      "outputs": [
        {
          "output_type": "stream",
          "name": "stdout",
          "text": [
            "prateek\n",
            "prateeb\n"
          ]
        }
      ]
    },
    {
      "cell_type": "markdown",
      "source": [
        "question 4. Discuss the different types of operators in Python and provide examples of how they are used.\n",
        "- operators are special symbols and keywords used to do any special actions on variables and numbers.\n",
        "-there are several types of operators:\n",
        "\n",
        "\n",
        "[1.arthmatic operators]\n",
        " - these operators are used when we have to do some arthmatic actions on variables   \n",
        "\n",
        "\n"
      ],
      "metadata": {
        "id": "JnMKiGCM3T8-"
      }
    },
    {
      "cell_type": "code",
      "source": [
        "#arthmatic operators\n",
        "a=2\n",
        "b=3\n",
        "print(a+b)"
      ],
      "metadata": {
        "colab": {
          "base_uri": "https://localhost:8080/"
        },
        "id": "jww4kLjC8YNx",
        "outputId": "09cb2857-4fca-4c49-ea5c-33f1c3e538bc"
      },
      "execution_count": null,
      "outputs": [
        {
          "output_type": "stream",
          "name": "stdout",
          "text": [
            "5\n"
          ]
        }
      ]
    },
    {
      "cell_type": "markdown",
      "source": [
        "[2.comparision operators]\n",
        "- it is used when we have to compare variables or numbers in order to make a decision."
      ],
      "metadata": {
        "id": "Ra5l-pkzBgU2"
      }
    },
    {
      "cell_type": "code",
      "source": [
        "# comparision operator\n",
        "2==2"
      ],
      "metadata": {
        "colab": {
          "base_uri": "https://localhost:8080/"
        },
        "id": "6xhS0J6SBeCr",
        "outputId": "6cf5b55b-6850-47bf-ef32-33fce15f8b13"
      },
      "execution_count": null,
      "outputs": [
        {
          "output_type": "execute_result",
          "data": {
            "text/plain": [
              "True"
            ]
          },
          "metadata": {},
          "execution_count": 27
        }
      ]
    },
    {
      "cell_type": "markdown",
      "source": [
        "[3.logical operators]\n",
        "- they are symbols or keywords used to produce a boolean value based on logical rules. for example - and,or,not true,not false.\n"
      ],
      "metadata": {
        "id": "UiMoHEN5Bt5Q"
      }
    },
    {
      "cell_type": "code",
      "source": [
        "#logical operator\n",
        "1 or 1"
      ],
      "metadata": {
        "colab": {
          "base_uri": "https://localhost:8080/"
        },
        "id": "ctZhmVEuBrDl",
        "outputId": "f0adbede-94e2-4f74-d3b9-f1e4200b5944"
      },
      "execution_count": null,
      "outputs": [
        {
          "output_type": "execute_result",
          "data": {
            "text/plain": [
              "1"
            ]
          },
          "metadata": {},
          "execution_count": 28
        }
      ]
    },
    {
      "cell_type": "markdown",
      "source": [
        "[4.membership operators]\n",
        "- it is used to find out wether any a specific inofrmation like a letter or a variable is present or not.\n"
      ],
      "metadata": {
        "id": "-bd3icRQCLWR"
      }
    },
    {
      "cell_type": "code",
      "source": [
        "# membership operator\n",
        "a=\"pwskills\"\n",
        "\"p\"in a"
      ],
      "metadata": {
        "colab": {
          "base_uri": "https://localhost:8080/"
        },
        "id": "l5F2pUQLB60S",
        "outputId": "8d7e07d1-6640-4101-88af-6530b5b539b9"
      },
      "execution_count": null,
      "outputs": [
        {
          "output_type": "execute_result",
          "data": {
            "text/plain": [
              "True"
            ]
          },
          "metadata": {},
          "execution_count": 29
        }
      ]
    },
    {
      "cell_type": "markdown",
      "source": [
        "[5.assignment operators]\n",
        "-  it is used when we have to assign an information like string ,integer to an variable"
      ],
      "metadata": {
        "id": "kGibWC-9CH-G"
      }
    },
    {
      "cell_type": "code",
      "source": [
        "#assignment operator\n",
        "a=5\n",
        "b=7"
      ],
      "metadata": {
        "id": "FpPk5hARCHon"
      },
      "execution_count": null,
      "outputs": []
    },
    {
      "cell_type": "markdown",
      "source": [
        "[6. identity operator]\n",
        "- Identity operators are used to compare the memory locations of two objects. They determine if two variables refer to the same object in memory."
      ],
      "metadata": {
        "id": "pS1gRSNDm50S"
      }
    },
    {
      "cell_type": "code",
      "source": [
        "#identity operator\n",
        "a=11\n",
        "b=11\n",
        "a is b"
      ],
      "metadata": {
        "colab": {
          "base_uri": "https://localhost:8080/"
        },
        "id": "HRvROwYEnZ28",
        "outputId": "1bf10985-fb9e-4a15-8c59-8b581cf86bcc"
      },
      "execution_count": 7,
      "outputs": [
        {
          "output_type": "execute_result",
          "data": {
            "text/plain": [
              "True"
            ]
          },
          "metadata": {},
          "execution_count": 7
        }
      ]
    },
    {
      "cell_type": "markdown",
      "source": [
        "[7. bitwise operator]\n",
        "- Bitwise operators work directly on the binary representation of numbers. They perform operations on individual bits."
      ],
      "metadata": {
        "id": "xYe8IKQFnhoC"
      }
    },
    {
      "cell_type": "code",
      "source": [
        "#bitwise operator\n",
        "bin(10)"
      ],
      "metadata": {
        "colab": {
          "base_uri": "https://localhost:8080/",
          "height": 35
        },
        "id": "IocTXJm_n08S",
        "outputId": "f44b1a52-3148-4bb1-af63-4c6329d90db5"
      },
      "execution_count": 8,
      "outputs": [
        {
          "output_type": "execute_result",
          "data": {
            "text/plain": [
              "'0b1010'"
            ],
            "application/vnd.google.colaboratory.intrinsic+json": {
              "type": "string"
            }
          },
          "metadata": {},
          "execution_count": 8
        }
      ]
    },
    {
      "cell_type": "markdown",
      "source": [
        "\n",
        "\n",
        "question 5.Explain the concept of type casting in Python with example.\n",
        "- data casting is the process by whichh one date type is converted into another data type in python.\n",
        "-it can be done in 2 ways:-\n",
        "1. implicit type\n",
        "- in this python automatically converts it"
      ],
      "metadata": {
        "id": "m7s2db68CoCS"
      }
    },
    {
      "cell_type": "code",
      "source": [
        "#example of implicit\n",
        "a=5 #integer\n",
        "b=10.50 #float\n",
        "c= a+b\n",
        "print(c)# here python automatically converted integer into float\n",
        "print(type(c))"
      ],
      "metadata": {
        "colab": {
          "base_uri": "https://localhost:8080/"
        },
        "id": "H4R8CLkjB_aD",
        "outputId": "8b339858-1d47-4bfb-e990-3c4beea2932c"
      },
      "execution_count": null,
      "outputs": [
        {
          "output_type": "stream",
          "name": "stdout",
          "text": [
            "15.5\n",
            "<class 'float'>\n"
          ]
        }
      ]
    },
    {
      "cell_type": "markdown",
      "source": [
        "2. explicit type\n",
        "- it is the type in which we have to write the code manually to convert it into another data type."
      ],
      "metadata": {
        "id": "CmpuRPFlGSiD"
      }
    },
    {
      "cell_type": "code",
      "source": [
        "#explicit type example\n",
        "a=\"3\"#it is string for python\n",
        "a=int(a) #converted it into int\n",
        "type(a)"
      ],
      "metadata": {
        "colab": {
          "base_uri": "https://localhost:8080/"
        },
        "id": "tQKtfygHGQMT",
        "outputId": "a5753567-8568-478e-b099-955ee7171acf"
      },
      "execution_count": null,
      "outputs": [
        {
          "output_type": "execute_result",
          "data": {
            "text/plain": [
              "int"
            ]
          },
          "metadata": {},
          "execution_count": 36
        }
      ]
    },
    {
      "cell_type": "markdown",
      "source": [
        "question 6. How do conditional statements work in Python? Illustrate with examples.\n",
        "- conditional statements works allows the program to give you output based on the given conditions\n",
        "- there are mainly 4 conditonal statements :\n",
        "1. if statement\n",
        "- excutes a block of code only if the condition is true"
      ],
      "metadata": {
        "id": "08hoUaP1G6AQ"
      }
    },
    {
      "cell_type": "code",
      "source": [
        "# [if statement example]\n",
        "a=10\n",
        "b=2\n",
        "if a>b:\n",
        "    print(\"example 1 output :a is greater than b\")"
      ],
      "metadata": {
        "colab": {
          "base_uri": "https://localhost:8080/"
        },
        "id": "DJ8FsPbRGk_l",
        "outputId": "0a2bd515-af8a-4e13-a18c-b8bc84603495"
      },
      "execution_count": null,
      "outputs": [
        {
          "output_type": "stream",
          "name": "stdout",
          "text": [
            "example 1 output :a is greater than b\n"
          ]
        }
      ]
    },
    {
      "cell_type": "markdown",
      "source": [
        "  2.if else statement\n",
        "  - excutes one block of code if the condition is true and another if the condition is false"
      ],
      "metadata": {
        "id": "t9vweNY-LHd1"
      }
    },
    {
      "cell_type": "code",
      "source": [
        "# [ifelse ]\n",
        "a=10\n",
        "b=20\n",
        "if a>b:\n",
        "  print(\"a is greater than b\")\n",
        "else:\n",
        "  print(\"example 2 output :b is greater than a\")"
      ],
      "metadata": {
        "colab": {
          "base_uri": "https://localhost:8080/"
        },
        "id": "8eoYMbWaLaZk",
        "outputId": "28805a09-edcd-4bc9-d437-1f0ecc6b85d2"
      },
      "execution_count": null,
      "outputs": [
        {
          "output_type": "stream",
          "name": "stdout",
          "text": [
            "example 2 output :b is greater than a\n"
          ]
        }
      ]
    },
    {
      "cell_type": "markdown",
      "source": [
        "3. if-elif-else condition\n",
        "- when there re multiple conditions"
      ],
      "metadata": {
        "id": "CHKXzLqeLbsW"
      }
    },
    {
      "cell_type": "code",
      "source": [
        "#[if-elif-else]\n",
        "a=10000\n",
        "if a<100:\n",
        "  print(\"a is lesser then 100\")\n",
        "elif a>100:\n",
        "  print(\"a is greater then 100\")\n",
        "else:\n",
        "    print(\"a is equal to 100\")"
      ],
      "metadata": {
        "id": "ZF_DwQ0zLDtA"
      },
      "execution_count": null,
      "outputs": []
    },
    {
      "cell_type": "markdown",
      "source": [
        "4.nested condtiom\n",
        "- it gives you function where you can add multiple if statements in a code.\n"
      ],
      "metadata": {
        "id": "Vb37jw-3L0Cn"
      }
    },
    {
      "cell_type": "code",
      "source": [
        "#nested condition example\n",
        "is_vip= False\n",
        "age=70\n",
        "if is_vip:\n",
        "  if age>=18:\n",
        "    if age<65:\n",
        "      print(\"you are vip sir\")\n",
        "    else:\n",
        "        print(\"you are senior vip sir\")\n",
        "  else:\n",
        "    print(\"you are not adult\")\n",
        "else:\n",
        "  print(\"you are not vip sir you will be charged normally\")"
      ],
      "metadata": {
        "colab": {
          "base_uri": "https://localhost:8080/"
        },
        "id": "nkYJdxzJMFam",
        "outputId": "ab6300c3-17a5-4457-9235-22d9caaa2885"
      },
      "execution_count": null,
      "outputs": [
        {
          "output_type": "stream",
          "name": "stdout",
          "text": [
            "you are not vip sir you will be charged normally\n"
          ]
        }
      ]
    },
    {
      "cell_type": "markdown",
      "source": [
        "question 7.Describe the different types of loops in Python and their use cases with examples.\n",
        "- loop statements allows you to excute a block of code repeatedly\n",
        "- loop is for two types:\n",
        "\n",
        "[1.while loop]\n",
        "- it allows you to repeatedly ecute a block of code until a conditon is met\n",
        "\n",
        "[Use Cases]:\n",
        "\n",
        "- When you need to repeat a block of code an unknown number of times until a specific condition is met.\n",
        "- When you need to keep asking the user for input until they provide valid input.\n",
        "- When you need to repeat a task until a certain event occurs."
      ],
      "metadata": {
        "id": "VwG73LYwN1sw"
      }
    },
    {
      "cell_type": "code",
      "source": [
        "#while loop statement\n",
        "n=8\n",
        "i=1\n",
        "while n>i:\n",
        "  print(i)\n",
        "  i=i+1"
      ],
      "metadata": {
        "colab": {
          "base_uri": "https://localhost:8080/"
        },
        "id": "Emv7sFBANMkZ",
        "outputId": "07070b29-84e1-4510-f178-ff6531631f52"
      },
      "execution_count": null,
      "outputs": [
        {
          "output_type": "stream",
          "name": "stdout",
          "text": [
            "1\n",
            "2\n",
            "3\n",
            "4\n",
            "5\n",
            "6\n",
            "7\n"
          ]
        }
      ]
    },
    {
      "cell_type": "markdown",
      "source": [
        "[2. for loop statement]\n",
        "\n",
        "-it illerate over a sequence of elements\n",
        "\n",
        "[Use Cases]:\n",
        "\n",
        "- When you need to process each element of a sequence, such as printing the elements of a list or performing calculations on the values in an array.\n",
        "- when you need to iterate over the characters in a string.\n"
      ],
      "metadata": {
        "id": "X7VLSK30OvZ1"
      }
    },
    {
      "cell_type": "code",
      "source": [
        "#for loop\n",
        "for t in range(11):\n",
        "  print(t)\n"
      ],
      "metadata": {
        "colab": {
          "base_uri": "https://localhost:8080/"
        },
        "id": "MKFq6DiJOtSZ",
        "outputId": "d4ef2551-b7f9-4c04-b05f-c7a7c957c1bd"
      },
      "execution_count": null,
      "outputs": [
        {
          "output_type": "stream",
          "name": "stdout",
          "text": [
            "0\n",
            "1\n",
            "2\n",
            "3\n",
            "4\n",
            "5\n",
            "6\n",
            "7\n",
            "8\n",
            "9\n",
            "10\n"
          ]
        }
      ]
    },
    {
      "cell_type": "code",
      "source": [],
      "metadata": {
        "id": "0-dEIfGBPeN5"
      },
      "execution_count": null,
      "outputs": []
    }
  ]
}